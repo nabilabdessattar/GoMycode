{
 "cells": [
  {
   "cell_type": "code",
   "execution_count": 5,
   "id": "e195b830",
   "metadata": {},
   "outputs": [
    {
     "name": "stdout",
     "output_type": "stream",
     "text": [
      "1.addition\n",
      "2.substraction\n",
      "3.multiplication\n",
      "4.division\n",
      "Choose operator (1/2/3/4): 4\n",
      "Choose number1 34\n",
      "Choose number2 25\n",
      "Result =  1.36\n"
     ]
    }
   ],
   "source": [
    "def addition(num1,num2):\n",
    "    return num1 + num2\n",
    "def substraction(num1,num2):\n",
    "    return num1 - num2\n",
    "def multiplication(num1,num2):\n",
    "    return num1 * num2\n",
    "def division(num1,num2):\n",
    "    return num1 / num2\n",
    "\n",
    "print('1.addition')\n",
    "print('2.substraction')\n",
    "print('3.multiplication')\n",
    "print('4.division')\n",
    "choice = int(input('Choose operator (1/2/3/4): '))\n",
    "number1 = int(input('Choose number1 '))\n",
    "number2 = int(input('Choose number2 '))\n",
    "if choice ==1:\n",
    "    print('Result = ', addition(number1,number2))\n",
    "elif choice ==2:\n",
    "    print('Result = ', substraction(number1,number2))\n",
    "elif choice ==3:\n",
    "    print('Result = ', multiplication(number1,number2))\n",
    "elif choice ==4:\n",
    "    print('Result = ', division(number1,number2))\n",
    "else:\n",
    "    print('Invalid choice')\n",
    "\n",
    "    \n",
    "    \n"
   ]
  },
  {
   "cell_type": "code",
   "execution_count": null,
   "id": "b67de67f",
   "metadata": {},
   "outputs": [],
   "source": []
  },
  {
   "cell_type": "code",
   "execution_count": null,
   "id": "01d4147b",
   "metadata": {},
   "outputs": [],
   "source": []
  }
 ],
 "metadata": {
  "kernelspec": {
   "display_name": "Python 3 (ipykernel)",
   "language": "python",
   "name": "python3"
  },
  "language_info": {
   "codemirror_mode": {
    "name": "ipython",
    "version": 3
   },
   "file_extension": ".py",
   "mimetype": "text/x-python",
   "name": "python",
   "nbconvert_exporter": "python",
   "pygments_lexer": "ipython3",
   "version": "3.11.3"
  }
 },
 "nbformat": 4,
 "nbformat_minor": 5
}
