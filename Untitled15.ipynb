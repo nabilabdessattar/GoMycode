{
 "cells": [
  {
   "cell_type": "code",
   "execution_count": 2,
   "id": "4c938e4f",
   "metadata": {},
   "outputs": [
    {
     "name": "stdout",
     "output_type": "stream",
     "text": [
      "Number of students 2\n",
      "Number of subjects 2\n",
      "[[0. 0.]\n",
      " [0. 0.]]\n",
      "Student 1\n",
      "what is your grade65\n",
      "what is your grade78\n",
      "Student 2\n",
      "what is your grade80\n",
      "what is your grade60\n",
      "[[65. 78.]\n",
      " [80. 60.]]\n"
     ]
    }
   ],
   "source": [
    "import numpy as np\n",
    "n = int(input('Number of students '))\n",
    "t = int(input('Number of subjects '))\n",
    "m = np.zeros((n,t))\n",
    "print(m)\n",
    "for i in range(n):\n",
    "    print('Student',i+1)\n",
    "    for j in range(t):\n",
    "        grade = int(input('what is your grade'))\n",
    "        m[i,j] = grade\n",
    "print(m)"
   ]
  },
  {
   "cell_type": "code",
   "execution_count": 7,
   "id": "e0b03cf3",
   "metadata": {},
   "outputs": [
    {
     "name": "stdout",
     "output_type": "stream",
     "text": [
      "<class 'list'>\n",
      "143.0\n",
      "140.0\n"
     ]
    }
   ],
   "source": [
    "lst = m.tolist()\n",
    "print(type(lst))\n",
    "for i in range(n):\n",
    "    x = sum(lst[i])\n",
    "    print(x)    "
   ]
  },
  {
   "cell_type": "code",
   "execution_count": 8,
   "id": "7b195482",
   "metadata": {},
   "outputs": [
    {
     "name": "stdout",
     "output_type": "stream",
     "text": [
      "71.5\n",
      "70.0\n"
     ]
    }
   ],
   "source": [
    "for i in range(n):\n",
    "    avg = (sum(lst[i])/int(t))\n",
    "    print(avg)    "
   ]
  },
  {
   "cell_type": "code",
   "execution_count": 11,
   "id": "39d941ef",
   "metadata": {},
   "outputs": [
    {
     "name": "stdout",
     "output_type": "stream",
     "text": [
      "Student  1\n",
      "Your grade is B+\n",
      "Student  2\n",
      "Your grade is B+\n"
     ]
    }
   ],
   "source": [
    "for i in range(n):\n",
    "    print('Student ',i+1)\n",
    "    if avg >= 90 and avg <=100:\n",
    "        print('Your grade is A+')\n",
    "    elif avg >=80 and avg <90:\n",
    "        print('Your grade is A')\n",
    "    elif avg >=70 and avg <80:\n",
    "        print('Your grade is B+')\n",
    "    elif avg >=60 and avg <70:\n",
    "        print('Your grade is B')\n",
    "    elif avg >=50 and avg <60:\n",
    "        print('Your grade is C')\n",
    "    else:\n",
    "        print('Your grade is F')\n",
    "\n",
    "    "
   ]
  },
  {
   "cell_type": "code",
   "execution_count": null,
   "id": "0cd307a7",
   "metadata": {},
   "outputs": [],
   "source": []
  }
 ],
 "metadata": {
  "kernelspec": {
   "display_name": "Python 3 (ipykernel)",
   "language": "python",
   "name": "python3"
  },
  "language_info": {
   "codemirror_mode": {
    "name": "ipython",
    "version": 3
   },
   "file_extension": ".py",
   "mimetype": "text/x-python",
   "name": "python",
   "nbconvert_exporter": "python",
   "pygments_lexer": "ipython3",
   "version": "3.11.3"
  }
 },
 "nbformat": 4,
 "nbformat_minor": 5
}
