{
 "cells": [
  {
   "cell_type": "code",
   "execution_count": null,
   "id": "629cd33a",
   "metadata": {},
   "outputs": [],
   "source": [
    "guess_number = input('Can you guess the rhight number between 1 and 100')\n",
    "import random\n",
    "random1 = random.randint(0,100)\n",
    "if guess_number < random1:\n",
    "    print ('Your guess number is low comparing to ', random1)\n",
    "elif guess_number > random1:\n",
    "    print ('Your guess number is high comparing to ', random1)\n",
    "else:\n",
    "    print ('Congratulation you guessed the right number! and it is ', random1)\n",
    "#While guess_number =! random1:\n",
    "    print ('Your guess number is still not the correct one')\n",
    "else:\n",
    "    print ('Yes, this is the right guess number: ', guess_number)\n",
    "\n",
    "#print(\"Random number between 0 and 100 is\", random1)\n"
   ]
  },
  {
   "cell_type": "code",
   "execution_count": 4,
   "id": "b04cb488",
   "metadata": {},
   "outputs": [
    {
     "name": "stdout",
     "output_type": "stream",
     "text": [
      "Can you guess the right number between 1 and 10025\n",
      "49\n",
      "Your guess number is low\n",
      "Can you guess the right number between 1 and 10049\n",
      "Congratulation you guessed the right number! and it is  49\n"
     ]
    }
   ],
   "source": [
    "guess_number = int(input('Can you guess the right number between 1 and 100'))\n",
    "import random\n",
    "random1 = random.randint(0,100)\n",
    "print(random1)\n",
    "while guess_number!= random1:\n",
    "    if guess_number < random1:\n",
    "        print ('Your guess number is low')\n",
    "    elif guess_number > random1:\n",
    "        print ('Your guess number is high')\n",
    "    guess_number = int(input('Can you guess the right number between 1 and 100'))\n",
    "print ('Congratulation you guessed the right number! and it is ', random1)\n"
   ]
  },
  {
   "cell_type": "code",
   "execution_count": null,
   "id": "5dce80f1",
   "metadata": {},
   "outputs": [],
   "source": []
  }
 ],
 "metadata": {
  "kernelspec": {
   "display_name": "Python 3 (ipykernel)",
   "language": "python",
   "name": "python3"
  },
  "language_info": {
   "codemirror_mode": {
    "name": "ipython",
    "version": 3
   },
   "file_extension": ".py",
   "mimetype": "text/x-python",
   "name": "python",
   "nbconvert_exporter": "python",
   "pygments_lexer": "ipython3",
   "version": "3.11.3"
  }
 },
 "nbformat": 4,
 "nbformat_minor": 5
}
