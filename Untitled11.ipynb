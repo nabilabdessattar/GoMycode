{
 "cells": [
  {
   "cell_type": "code",
   "execution_count": 5,
   "id": "397f5eac",
   "metadata": {},
   "outputs": [
    {
     "name": "stdout",
     "output_type": "stream",
     "text": [
      "(1, 2, 3)\n",
      "[1, 2, 3]\n"
     ]
    }
   ],
   "source": [
    "class Point3D:\n",
    "    def __init__(self, x, y, z):\n",
    "        self.x = x\n",
    "        self.y = y\n",
    "        self.z = z\n",
    "    def point(self):\n",
    "        return (self.x,self.y,self.z)\n",
    "    def pointL(self):\n",
    "        return [self.x,self.y,self.z]\n",
    "my_point = Point3D(1,2,3)\n",
    "result = my_point.point()\n",
    "result2 = my_point.pointL()\n",
    "print(result)\n",
    "print(result2)\n",
    "\n"
   ]
  },
  {
   "cell_type": "code",
   "execution_count": 6,
   "id": "baf5da1a",
   "metadata": {},
   "outputs": [
    {
     "name": "stdout",
     "output_type": "stream",
     "text": [
      "12\n",
      "14\n"
     ]
    }
   ],
   "source": [
    "class rectangle:\n",
    "    def __init__(self, l, w):\n",
    "        self.l = l\n",
    "        self.w = w\n",
    "    def area(self):\n",
    "        return(self.l*self.w)\n",
    "    def perimeter(self):\n",
    "        return(2*(self.l+self.w))\n",
    "my_rectangle = rectangle(3,4)\n",
    "resultArea = my_rectangle.area()\n",
    "resultPerimeter = my_rectangle.perimeter()\n",
    "print(resultArea)\n",
    "print(resultPerimeter)"
   ]
  },
  {
   "cell_type": "code",
   "execution_count": 12,
   "id": "84539195",
   "metadata": {},
   "outputs": [
    {
     "name": "stdout",
     "output_type": "stream",
     "text": [
      "78.53981633974483\n",
      "31.41592653589793\n",
      "True\n"
     ]
    }
   ],
   "source": [
    "from math import pi\n",
    "class Circle:\n",
    "    def __init__(self, r):\n",
    "        self.r = r\n",
    "    def area(self):\n",
    "        return(pi*(self.r)**2)\n",
    "    def perimeter(self):\n",
    "        return(2*pi*(self.r))\n",
    "    def belong(self,x,y):\n",
    "        if x <= self.r or y <= self.r:\n",
    "            return('True')\n",
    "        else:\n",
    "            return('False')\n",
    "my_circle = Circle(5)\n",
    "print(my_circle.area())\n",
    "print(my_circle.perimeter())\n",
    "print(my_circle.belong(3,4))\n"
   ]
  },
  {
   "cell_type": "code",
   "execution_count": 17,
   "id": "f5c71a47",
   "metadata": {},
   "outputs": [
    {
     "name": "stdout",
     "output_type": "stream",
     "text": [
      "500\n",
      "400\n",
      "400\n"
     ]
    }
   ],
   "source": [
    "class Bank:\n",
    "    def __init__(self, b):\n",
    "        self.b = b\n",
    "    def deposit(self,d):\n",
    "        self.b = self.b+d\n",
    "        return(self.b)\n",
    "    def withdrawl(self,w):\n",
    "        self.b = self.b-w\n",
    "        return(self.b)\n",
    "    def display(self):\n",
    "        print(self.b)\n",
    "my_balance = Bank(300)\n",
    "print(my_balance.deposit(200))\n",
    "print(my_balance.withdrawl(100))\n",
    "my_balance.display()\n"
   ]
  },
  {
   "cell_type": "code",
   "execution_count": null,
   "id": "78632fe2",
   "metadata": {},
   "outputs": [],
   "source": []
  }
 ],
 "metadata": {
  "kernelspec": {
   "display_name": "Python 3 (ipykernel)",
   "language": "python",
   "name": "python3"
  },
  "language_info": {
   "codemirror_mode": {
    "name": "ipython",
    "version": 3
   },
   "file_extension": ".py",
   "mimetype": "text/x-python",
   "name": "python",
   "nbconvert_exporter": "python",
   "pygments_lexer": "ipython3",
   "version": "3.11.3"
  }
 },
 "nbformat": 4,
 "nbformat_minor": 5
}
